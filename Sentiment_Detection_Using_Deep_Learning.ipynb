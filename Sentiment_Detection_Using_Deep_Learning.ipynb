{
  "cells": [
    {
      "cell_type": "code",
      "execution_count": null,
      "metadata": {
        "id": "FMnJRql2GUyp"
      },
      "outputs": [],
      "source": [
        "import numpy as np\n",
        "\n",
        "docs = [\n",
        "    \"The cat chased a mouse\",\n",
        "    \"He loves spicy Indian food\",\n",
        "    \"Stars shine brightly at night\",\n",
        "    \"Books are knowledge's best friends\",\n",
        "    \"They played soccer every weekend\",\n",
        "    \"Coffee boosts my morning energy\",\n",
        "    \"She dances gracefully with joy\",\n",
        "    \"Rain fell on the roof\",\n",
        "    \"Time flies when you're happy\",\n",
        "    \"Dreams inspire creative new ideas\"\n",
        "]"
      ]
    },
    {
      "cell_type": "code",
      "execution_count": null,
      "metadata": {
        "id": "EwHFBdLjKOfJ"
      },
      "outputs": [],
      "source": [
        "#Generating Indexes using Integer Encoding"
      ]
    },
    {
      "cell_type": "code",
      "execution_count": null,
      "metadata": {
        "id": "19x_aDxtG_Yt"
      },
      "outputs": [],
      "source": [
        "from tensorflow.keras.preprocessing.text import Tokenizer\n",
        "\n",
        "tokenizer = Tokenizer(oov_token=\"<nothing>\") #oov = out of vocabulary"
      ]
    },
    {
      "cell_type": "code",
      "execution_count": null,
      "metadata": {
        "id": "tsK0ymxUICPx"
      },
      "outputs": [],
      "source": [
        "tokenizer.fit_on_texts(docs) #fitting our data into tokenizer"
      ]
    },
    {
      "cell_type": "code",
      "execution_count": null,
      "metadata": {
        "colab": {
          "base_uri": "https://localhost:8080/"
        },
        "id": "XPBGnjTNII2Z",
        "outputId": "a6da30ea-8ae3-4db8-95e4-2b9ca936b7ee"
      },
      "outputs": [
        {
          "data": {
            "text/plain": [
              "{'<nothing>': 1,\n",
              " 'the': 2,\n",
              " 'cat': 3,\n",
              " 'chased': 4,\n",
              " 'a': 5,\n",
              " 'mouse': 6,\n",
              " 'he': 7,\n",
              " 'loves': 8,\n",
              " 'spicy': 9,\n",
              " 'indian': 10,\n",
              " 'food': 11,\n",
              " 'stars': 12,\n",
              " 'shine': 13,\n",
              " 'brightly': 14,\n",
              " 'at': 15,\n",
              " 'night': 16,\n",
              " 'books': 17,\n",
              " 'are': 18,\n",
              " \"knowledge's\": 19,\n",
              " 'best': 20,\n",
              " 'friends': 21,\n",
              " 'they': 22,\n",
              " 'played': 23,\n",
              " 'soccer': 24,\n",
              " 'every': 25,\n",
              " 'weekend': 26,\n",
              " 'coffee': 27,\n",
              " 'boosts': 28,\n",
              " 'my': 29,\n",
              " 'morning': 30,\n",
              " 'energy': 31,\n",
              " 'she': 32,\n",
              " 'dances': 33,\n",
              " 'gracefully': 34,\n",
              " 'with': 35,\n",
              " 'joy': 36,\n",
              " 'rain': 37,\n",
              " 'fell': 38,\n",
              " 'on': 39,\n",
              " 'roof': 40,\n",
              " 'time': 41,\n",
              " 'flies': 42,\n",
              " 'when': 43,\n",
              " \"you're\": 44,\n",
              " 'happy': 45,\n",
              " 'dreams': 46,\n",
              " 'inspire': 47,\n",
              " 'creative': 48,\n",
              " 'new': 49,\n",
              " 'ideas': 50}"
            ]
          },
          "execution_count": 5,
          "metadata": {},
          "output_type": "execute_result"
        }
      ],
      "source": [
        "tokenizer.word_index #give word index"
      ]
    },
    {
      "cell_type": "code",
      "execution_count": null,
      "metadata": {
        "colab": {
          "base_uri": "https://localhost:8080/"
        },
        "id": "7IACUzPJJ_JD",
        "outputId": "7087c6f3-ae36-44e5-de82-84526b80322c"
      },
      "outputs": [
        {
          "data": {
            "text/plain": [
              "OrderedDict([('the', 2),\n",
              "             ('cat', 1),\n",
              "             ('chased', 1),\n",
              "             ('a', 1),\n",
              "             ('mouse', 1),\n",
              "             ('he', 1),\n",
              "             ('loves', 1),\n",
              "             ('spicy', 1),\n",
              "             ('indian', 1),\n",
              "             ('food', 1),\n",
              "             ('stars', 1),\n",
              "             ('shine', 1),\n",
              "             ('brightly', 1),\n",
              "             ('at', 1),\n",
              "             ('night', 1),\n",
              "             ('books', 1),\n",
              "             ('are', 1),\n",
              "             (\"knowledge's\", 1),\n",
              "             ('best', 1),\n",
              "             ('friends', 1),\n",
              "             ('they', 1),\n",
              "             ('played', 1),\n",
              "             ('soccer', 1),\n",
              "             ('every', 1),\n",
              "             ('weekend', 1),\n",
              "             ('coffee', 1),\n",
              "             ('boosts', 1),\n",
              "             ('my', 1),\n",
              "             ('morning', 1),\n",
              "             ('energy', 1),\n",
              "             ('she', 1),\n",
              "             ('dances', 1),\n",
              "             ('gracefully', 1),\n",
              "             ('with', 1),\n",
              "             ('joy', 1),\n",
              "             ('rain', 1),\n",
              "             ('fell', 1),\n",
              "             ('on', 1),\n",
              "             ('roof', 1),\n",
              "             ('time', 1),\n",
              "             ('flies', 1),\n",
              "             ('when', 1),\n",
              "             (\"you're\", 1),\n",
              "             ('happy', 1),\n",
              "             ('dreams', 1),\n",
              "             ('inspire', 1),\n",
              "             ('creative', 1),\n",
              "             ('new', 1),\n",
              "             ('ideas', 1)])"
            ]
          },
          "execution_count": 6,
          "metadata": {},
          "output_type": "execute_result"
        }
      ],
      "source": [
        "tokenizer.word_counts #give word count"
      ]
    },
    {
      "cell_type": "code",
      "execution_count": null,
      "metadata": {
        "colab": {
          "base_uri": "https://localhost:8080/"
        },
        "id": "-5Ev9P2tKIOc",
        "outputId": "786575c1-0361-49f1-cf98-fc3fac9fa4f7"
      },
      "outputs": [
        {
          "data": {
            "text/plain": [
              "10"
            ]
          },
          "execution_count": 7,
          "metadata": {},
          "output_type": "execute_result"
        }
      ],
      "source": [
        "tokenizer.document_count #gives row count"
      ]
    },
    {
      "cell_type": "code",
      "execution_count": null,
      "metadata": {
        "colab": {
          "base_uri": "https://localhost:8080/"
        },
        "id": "gVDHTxc8KaAR",
        "outputId": "54880bc3-be39-4d57-c316-8a48f391b904"
      },
      "outputs": [
        {
          "data": {
            "text/plain": [
              "[[2, 3, 4, 5, 6],\n",
              " [7, 8, 9, 10, 11],\n",
              " [12, 13, 14, 15, 16],\n",
              " [17, 18, 19, 20, 21],\n",
              " [22, 23, 24, 25, 26],\n",
              " [27, 28, 29, 30, 31],\n",
              " [32, 33, 34, 35, 36],\n",
              " [37, 38, 39, 2, 40],\n",
              " [41, 42, 43, 44, 45],\n",
              " [46, 47, 48, 49, 50]]"
            ]
          },
          "execution_count": 8,
          "metadata": {},
          "output_type": "execute_result"
        }
      ],
      "source": [
        "sequences = tokenizer.texts_to_sequences(docs) #changing text to sequences into vector form\n",
        "sequences"
      ]
    },
    {
      "cell_type": "code",
      "execution_count": null,
      "metadata": {
        "id": "spDuxJ7NLK9i"
      },
      "outputs": [],
      "source": [
        "from tensorflow.keras.utils import pad_sequences"
      ]
    },
    {
      "cell_type": "code",
      "execution_count": null,
      "metadata": {
        "id": "cyseNEf3Lca5"
      },
      "outputs": [],
      "source": [
        "sequences = pad_sequences(sequences, padding=\"post\")"
      ]
    },
    {
      "cell_type": "code",
      "execution_count": null,
      "metadata": {
        "colab": {
          "base_uri": "https://localhost:8080/"
        },
        "id": "K0qk4HRKLi8i",
        "outputId": "92a7d298-977d-447e-8c51-328412dc5d20"
      },
      "outputs": [
        {
          "data": {
            "text/plain": [
              "array([[ 2,  3,  4,  5,  6],\n",
              "       [ 7,  8,  9, 10, 11],\n",
              "       [12, 13, 14, 15, 16],\n",
              "       [17, 18, 19, 20, 21],\n",
              "       [22, 23, 24, 25, 26],\n",
              "       [27, 28, 29, 30, 31],\n",
              "       [32, 33, 34, 35, 36],\n",
              "       [37, 38, 39,  2, 40],\n",
              "       [41, 42, 43, 44, 45],\n",
              "       [46, 47, 48, 49, 50]], dtype=int32)"
            ]
          },
          "execution_count": 11,
          "metadata": {},
          "output_type": "execute_result"
        }
      ],
      "source": [
        "sequences"
      ]
    },
    {
      "cell_type": "code",
      "execution_count": null,
      "metadata": {
        "id": "IfusBvL6M3mD"
      },
      "outputs": [],
      "source": [
        "# from tensorflow.keras\n",
        "from tensorflow.keras.datasets import imdb\n",
        "from tensorflow.keras import Sequential\n",
        "from tensorflow.keras.layers import Dense, SimpleRNN, Flatten"
      ]
    },
    {
      "cell_type": "code",
      "execution_count": null,
      "metadata": {
        "colab": {
          "base_uri": "https://localhost:8080/"
        },
        "id": "y53K9XoVNM2z",
        "outputId": "24524fde-e11f-4522-95df-8c412724f268"
      },
      "outputs": [
        {
          "name": "stdout",
          "output_type": "stream",
          "text": [
            "Downloading data from https://storage.googleapis.com/tensorflow/tf-keras-datasets/imdb.npz\n",
            "\u001b[1m17464789/17464789\u001b[0m \u001b[32m━━━━━━━━━━━━━━━━━━━━\u001b[0m\u001b[37m\u001b[0m \u001b[1m0s\u001b[0m 0us/step\n"
          ]
        }
      ],
      "source": [
        "(X_train,y_train),(X_test,y_test) = imdb.load_data()"
      ]
    },
    {
      "cell_type": "code",
      "execution_count": null,
      "metadata": {
        "colab": {
          "base_uri": "https://localhost:8080/"
        },
        "id": "ARot5FQoNa15",
        "outputId": "4a4cd824-97d1-483b-e011-0db0616baca9"
      },
      "outputs": [
        {
          "data": {
            "text/plain": [
              "(25000,)"
            ]
          },
          "execution_count": 14,
          "metadata": {},
          "output_type": "execute_result"
        }
      ],
      "source": [
        "X_train.shape #no. of loaded training data"
      ]
    },
    {
      "cell_type": "code",
      "execution_count": null,
      "metadata": {
        "colab": {
          "base_uri": "https://localhost:8080/"
        },
        "id": "hetMM5pLNkJt",
        "outputId": "d9ccc730-e9c8-42ef-9594-414fead9f648"
      },
      "outputs": [
        {
          "data": {
            "text/plain": [
              "(25000,)"
            ]
          },
          "execution_count": 16,
          "metadata": {},
          "output_type": "execute_result"
        }
      ],
      "source": [
        "X_test.shape #no. of loaded testing data"
      ]
    },
    {
      "cell_type": "code",
      "execution_count": null,
      "metadata": {
        "colab": {
          "base_uri": "https://localhost:8080/"
        },
        "id": "Ghl3WGzNNtwi",
        "outputId": "1f59953a-c197-4f36-cf42-95ea3a078280"
      },
      "outputs": [
        {
          "data": {
            "text/plain": [
              "2494"
            ]
          },
          "execution_count": 17,
          "metadata": {},
          "output_type": "execute_result"
        }
      ],
      "source": [
        "X_train = pad_sequences(X_train,padding=\"post\") #padding to same the number of words in every review\n",
        "len(X_train[0])"
      ]
    },
    {
      "cell_type": "code",
      "execution_count": null,
      "metadata": {
        "id": "LBJl6X85OMex"
      },
      "outputs": [],
      "source": [
        "X_test = pad_sequences(X_test,padding=\"post\") #padding to same the number of words in every review"
      ]
    },
    {
      "cell_type": "code",
      "execution_count": null,
      "metadata": {
        "colab": {
          "base_uri": "https://localhost:8080/"
        },
        "id": "7EFrHRnjOgEF",
        "outputId": "7c2a3689-1907-4b44-8e62-6343519a4896"
      },
      "outputs": [
        {
          "data": {
            "text/plain": [
              "(25000, 2494)"
            ]
          },
          "execution_count": 19,
          "metadata": {},
          "output_type": "execute_result"
        }
      ],
      "source": [
        "X_train.shape"
      ]
    },
    {
      "cell_type": "code",
      "execution_count": null,
      "metadata": {
        "colab": {
          "base_uri": "https://localhost:8080/"
        },
        "id": "rKHXroX4O_SH",
        "outputId": "dc8432b4-c72f-463f-9ce0-56a4ff14f668"
      },
      "outputs": [
        {
          "name": "stderr",
          "output_type": "stream",
          "text": [
            "/usr/local/lib/python3.10/dist-packages/keras/src/layers/rnn/rnn.py:204: UserWarning: Do not pass an `input_shape`/`input_dim` argument to a layer. When using Sequential models, prefer using an `Input(shape)` object as the first layer in the model instead.\n",
            "  super().__init__(**kwargs)\n"
          ]
        }
      ],
      "source": [
        "model = Sequential()\n",
        "\n",
        "model.add(SimpleRNN(32,input_shape=(50,1),return_sequences=False)) #32 Nodes, Input Shape =( 50 time steps , 1 input feature )\n",
        "model.add(Dense(1,activation=\"sigmoid\"))"
      ]
    },
    {
      "cell_type": "code",
      "execution_count": null,
      "metadata": {
        "colab": {
          "base_uri": "https://localhost:8080/",
          "height": 193
        },
        "id": "wYlDw0IqPc9c",
        "outputId": "ce10e092-a0cb-4656-ead9-fead1e2b286c"
      },
      "outputs": [
        {
          "data": {
            "text/html": [
              "<pre style=\"white-space:pre;overflow-x:auto;line-height:normal;font-family:Menlo,'DejaVu Sans Mono',consolas,'Courier New',monospace\"><span style=\"font-weight: bold\">Model: \"sequential_5\"</span>\n",
              "</pre>\n"
            ],
            "text/plain": [
              "\u001b[1mModel: \"sequential_5\"\u001b[0m\n"
            ]
          },
          "metadata": {},
          "output_type": "display_data"
        },
        {
          "data": {
            "text/html": [
              "<pre style=\"white-space:pre;overflow-x:auto;line-height:normal;font-family:Menlo,'DejaVu Sans Mono',consolas,'Courier New',monospace\">┏━━━━━━━━━━━━━━━━━━━━━━━━━━━━━━━━━━━━━━┳━━━━━━━━━━━━━━━━━━━━━━━━━━━━━┳━━━━━━━━━━━━━━━━━┓\n",
              "┃<span style=\"font-weight: bold\"> Layer (type)                         </span>┃<span style=\"font-weight: bold\"> Output Shape                </span>┃<span style=\"font-weight: bold\">         Param # </span>┃\n",
              "┡━━━━━━━━━━━━━━━━━━━━━━━━━━━━━━━━━━━━━━╇━━━━━━━━━━━━━━━━━━━━━━━━━━━━━╇━━━━━━━━━━━━━━━━━┩\n",
              "│ simple_rnn_5 (<span style=\"color: #0087ff; text-decoration-color: #0087ff\">SimpleRNN</span>)             │ (<span style=\"color: #00d7ff; text-decoration-color: #00d7ff\">None</span>, <span style=\"color: #00af00; text-decoration-color: #00af00\">32</span>)                  │           <span style=\"color: #00af00; text-decoration-color: #00af00\">1,088</span> │\n",
              "├──────────────────────────────────────┼─────────────────────────────┼─────────────────┤\n",
              "│ dense_5 (<span style=\"color: #0087ff; text-decoration-color: #0087ff\">Dense</span>)                      │ (<span style=\"color: #00d7ff; text-decoration-color: #00d7ff\">None</span>, <span style=\"color: #00af00; text-decoration-color: #00af00\">1</span>)                   │              <span style=\"color: #00af00; text-decoration-color: #00af00\">33</span> │\n",
              "└──────────────────────────────────────┴─────────────────────────────┴─────────────────┘\n",
              "</pre>\n"
            ],
            "text/plain": [
              "┏━━━━━━━━━━━━━━━━━━━━━━━━━━━━━━━━━━━━━━┳━━━━━━━━━━━━━━━━━━━━━━━━━━━━━┳━━━━━━━━━━━━━━━━━┓\n",
              "┃\u001b[1m \u001b[0m\u001b[1mLayer (type)                        \u001b[0m\u001b[1m \u001b[0m┃\u001b[1m \u001b[0m\u001b[1mOutput Shape               \u001b[0m\u001b[1m \u001b[0m┃\u001b[1m \u001b[0m\u001b[1m        Param #\u001b[0m\u001b[1m \u001b[0m┃\n",
              "┡━━━━━━━━━━━━━━━━━━━━━━━━━━━━━━━━━━━━━━╇━━━━━━━━━━━━━━━━━━━━━━━━━━━━━╇━━━━━━━━━━━━━━━━━┩\n",
              "│ simple_rnn_5 (\u001b[38;5;33mSimpleRNN\u001b[0m)             │ (\u001b[38;5;45mNone\u001b[0m, \u001b[38;5;34m32\u001b[0m)                  │           \u001b[38;5;34m1,088\u001b[0m │\n",
              "├──────────────────────────────────────┼─────────────────────────────┼─────────────────┤\n",
              "│ dense_5 (\u001b[38;5;33mDense\u001b[0m)                      │ (\u001b[38;5;45mNone\u001b[0m, \u001b[38;5;34m1\u001b[0m)                   │              \u001b[38;5;34m33\u001b[0m │\n",
              "└──────────────────────────────────────┴─────────────────────────────┴─────────────────┘\n"
            ]
          },
          "metadata": {},
          "output_type": "display_data"
        },
        {
          "data": {
            "text/html": [
              "<pre style=\"white-space:pre;overflow-x:auto;line-height:normal;font-family:Menlo,'DejaVu Sans Mono',consolas,'Courier New',monospace\"><span style=\"font-weight: bold\"> Total params: </span><span style=\"color: #00af00; text-decoration-color: #00af00\">1,121</span> (4.38 KB)\n",
              "</pre>\n"
            ],
            "text/plain": [
              "\u001b[1m Total params: \u001b[0m\u001b[38;5;34m1,121\u001b[0m (4.38 KB)\n"
            ]
          },
          "metadata": {},
          "output_type": "display_data"
        },
        {
          "data": {
            "text/html": [
              "<pre style=\"white-space:pre;overflow-x:auto;line-height:normal;font-family:Menlo,'DejaVu Sans Mono',consolas,'Courier New',monospace\"><span style=\"font-weight: bold\"> Trainable params: </span><span style=\"color: #00af00; text-decoration-color: #00af00\">1,121</span> (4.38 KB)\n",
              "</pre>\n"
            ],
            "text/plain": [
              "\u001b[1m Trainable params: \u001b[0m\u001b[38;5;34m1,121\u001b[0m (4.38 KB)\n"
            ]
          },
          "metadata": {},
          "output_type": "display_data"
        },
        {
          "data": {
            "text/html": [
              "<pre style=\"white-space:pre;overflow-x:auto;line-height:normal;font-family:Menlo,'DejaVu Sans Mono',consolas,'Courier New',monospace\"><span style=\"font-weight: bold\"> Non-trainable params: </span><span style=\"color: #00af00; text-decoration-color: #00af00\">0</span> (0.00 B)\n",
              "</pre>\n"
            ],
            "text/plain": [
              "\u001b[1m Non-trainable params: \u001b[0m\u001b[38;5;34m0\u001b[0m (0.00 B)\n"
            ]
          },
          "metadata": {},
          "output_type": "display_data"
        }
      ],
      "source": [
        "model.summary()"
      ]
    },
    {
      "cell_type": "code",
      "execution_count": null,
      "metadata": {
        "colab": {
          "background_save": true,
          "base_uri": "https://localhost:8080/"
        },
        "id": "2bjkxz6vRRcc",
        "outputId": "99d49384-b28e-4213-c857-ebbb9c00e592"
      },
      "outputs": [
        {
          "name": "stdout",
          "output_type": "stream",
          "text": [
            "Epoch 1/100\n",
            "\u001b[1m782/782\u001b[0m \u001b[32m━━━━━━━━━━━━━━━━━━━━\u001b[0m\u001b[37m\u001b[0m \u001b[1m379s\u001b[0m 479ms/step - accuracy: 0.5004 - loss: 0.6943 - val_accuracy: 0.4969 - val_loss: 0.6955\n",
            "Epoch 2/100\n",
            "\u001b[1m782/782\u001b[0m \u001b[32m━━━━━━━━━━━━━━━━━━━━\u001b[0m\u001b[37m\u001b[0m \u001b[1m372s\u001b[0m 466ms/step - accuracy: 0.5047 - loss: 0.6961 - val_accuracy: 0.4988 - val_loss: 0.6934\n",
            "Epoch 3/100\n",
            "\u001b[1m782/782\u001b[0m \u001b[32m━━━━━━━━━━━━━━━━━━━━\u001b[0m\u001b[37m\u001b[0m \u001b[1m378s\u001b[0m 461ms/step - accuracy: 0.4973 - loss: 0.6940 - val_accuracy: 0.5036 - val_loss: 0.6939\n",
            "Epoch 4/100\n",
            "\u001b[1m782/782\u001b[0m \u001b[32m━━━━━━━━━━━━━━━━━━━━\u001b[0m\u001b[37m\u001b[0m \u001b[1m444s\u001b[0m 540ms/step - accuracy: 0.5016 - loss: 0.6940 - val_accuracy: 0.4981 - val_loss: 0.6944\n",
            "Epoch 5/100\n",
            "\u001b[1m782/782\u001b[0m \u001b[32m━━━━━━━━━━━━━━━━━━━━\u001b[0m\u001b[37m\u001b[0m \u001b[1m362s\u001b[0m 463ms/step - accuracy: 0.4963 - loss: 0.6941 - val_accuracy: 0.5032 - val_loss: 0.6934\n",
            "Epoch 6/100\n",
            "\u001b[1m782/782\u001b[0m \u001b[32m━━━━━━━━━━━━━━━━━━━━\u001b[0m\u001b[37m\u001b[0m \u001b[1m383s\u001b[0m 465ms/step - accuracy: 0.4962 - loss: 0.6940 - val_accuracy: 0.5018 - val_loss: 0.6936\n",
            "Epoch 7/100\n",
            "\u001b[1m782/782\u001b[0m \u001b[32m━━━━━━━━━━━━━━━━━━━━\u001b[0m\u001b[37m\u001b[0m \u001b[1m364s\u001b[0m 466ms/step - accuracy: 0.4992 - loss: 0.6939 - val_accuracy: 0.4984 - val_loss: 0.6935\n",
            "Epoch 8/100\n",
            "\u001b[1m782/782\u001b[0m \u001b[32m━━━━━━━━━━━━━━━━━━━━\u001b[0m\u001b[37m\u001b[0m \u001b[1m381s\u001b[0m 465ms/step - accuracy: 0.4917 - loss: 0.6941 - val_accuracy: 0.5021 - val_loss: 0.6943\n",
            "Epoch 9/100\n",
            "\u001b[1m782/782\u001b[0m \u001b[32m━━━━━━━━━━━━━━━━━━━━\u001b[0m\u001b[37m\u001b[0m \u001b[1m381s\u001b[0m 464ms/step - accuracy: 0.5007 - loss: 0.6941 - val_accuracy: 0.4972 - val_loss: 0.6964\n",
            "Epoch 10/100\n",
            "\u001b[1m433/782\u001b[0m \u001b[32m━━━━━━━━━━━\u001b[0m\u001b[37m━━━━━━━━━\u001b[0m \u001b[1m2:03\u001b[0m 354ms/step - accuracy: 0.5043 - loss: 0.6944"
          ]
        }
      ],
      "source": [
        "model.compile(loss=\"binary_crossentropy\",optimizer=\"adam\",metrics=['accuracy'])\n",
        "model.fit(X_train,y_train,epochs=100,validation_data=(X_test,y_test))"
      ]
    }
  ],
  "metadata": {
    "colab": {
      "provenance": []
    },
    "kernelspec": {
      "display_name": "Python 3",
      "name": "python3"
    },
    "language_info": {
      "name": "python"
    }
  },
  "nbformat": 4,
  "nbformat_minor": 0
}